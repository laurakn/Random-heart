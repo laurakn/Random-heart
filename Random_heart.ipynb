{
 "cells": [
  {
   "cell_type": "markdown",
   "metadata": {},
   "source": [
    "This is a fun little project for Valentines day. It will randomly generately a 3D plot of rotating hearts.\n",
    "Can also be turned into a gif, though that requires some extra equipment."
   ]
  },
  {
   "cell_type": "code",
   "execution_count": 1,
   "metadata": {
    "collapsed": true
   },
   "outputs": [],
   "source": [
    "import numpy as np\n",
    "import matplotlib.pyplot as plt \n",
    "from mpl_toolkits.mplot3d import Axes3D\n",
    "from matplotlib import animation\n",
    "import random\n",
    "import math\n",
    "#%matplotlib inline"
   ]
  },
  {
   "cell_type": "markdown",
   "metadata": {},
   "source": [
    "Found these equations for hearts on wolframalpha. "
   ]
  },
  {
   "cell_type": "code",
   "execution_count": 2,
   "metadata": {
    "collapsed": false
   },
   "outputs": [],
   "source": [
    "def x(t):\n",
    "    '''parametric generation of xs'''\n",
    "    return [16*math.sin(x)**3 for x in t]\n",
    "\n",
    "def z(t):\n",
    "    '''parametric generation of zs'''\n",
    "    return [13*math.cos(t)-5*math.cos(2*t)-2*math.cos(3*t)-math.cos(4*t) for t in t]\n",
    "    \n",
    "def rotate(x,y,z):\n",
    "    '''rotate image with random angle'''\n",
    "    a = np.random.uniform(0,2*math.pi)\n",
    "    R = np.matrix([[math.cos(a), -math.sin(a),0], [math.sin(a), math.cos(a), 0], [0,0,1]])\n",
    "    M = np.matrix([x,y,z])\n",
    "    points = np.dot(R, M).T\n",
    "    return points[:,0], points[:,1], points[:,2]\n",
    "\n",
    "def heart():\n",
    "    '''generate one randomly sized/angled/positioned heart'''\n",
    "    n = random.randint(20,150) # number of points\n",
    "    t = np.random.uniform(0,2*math.pi, n)\n",
    "    i = np.random.uniform(.001, 5) # scale\n",
    "    shift = np.random.uniform(-150, 150, 3) #position\n",
    "    \n",
    "    X = np.asarray(x(t))\n",
    "    Y = np.zeros(n)\n",
    "    Z = np.asarray(z(t))\n",
    "    \n",
    "    X, Y, Z = rotate(X, Y, Z)\n",
    "    \n",
    "    return (X*i + shift[0]).tolist(), (Y*i+shift[1]).tolist(), (Z*i+shift[2]).tolist()    "
   ]
  },
  {
   "cell_type": "code",
   "execution_count": 6,
   "metadata": {
    "collapsed": false
   },
   "outputs": [],
   "source": [
    "n = random.randint(3,8) # random number of hearts to generate\n",
    "\n",
    "X, Y, Z, = None, None, None\n",
    "X, Y, Z = heart()\n",
    "for i in range(0,n):\n",
    "    a, b, c = heart()\n",
    "    X.extend(a)\n",
    "    Y.extend(b)\n",
    "    Z.extend(c)\n",
    "    \n",
    "# create figure\n",
    "fig = plt.figure()\n",
    "ax = fig.add_subplot(111, projection='3d')\n",
    "ax.scatter(xs=X, ys=Y, zs=Z, zdir='z')\n",
    "plt.axis('off')\n",
    "\n",
    "# create rotating image of figure\n",
    "# comment this out and use the \"%matplotlib inline\" above to just see stationary graph below\n",
    "for angle in range(0, 360):\n",
    "    ax.view_init(30, angle)\n",
    "    plt.draw()\n",
    "    plt.pause(.001)"
   ]
  },
  {
   "cell_type": "markdown",
   "metadata": {},
   "source": [
    "To turn into gif, make sure to be in directory of output,\n",
    "download ImageMagick, then type into terminal:\n",
    "\n",
    "ffmpeg -i hearts.mp4 -r 10 output%05d.png\n",
    "\n",
    "convert output*.png output.gif"
   ]
  },
  {
   "cell_type": "code",
   "execution_count": 8,
   "metadata": {
    "collapsed": false
   },
   "outputs": [],
   "source": [
    "# Save animation to file \"hearts.mp4\". Need to install ffmpeg\n",
    "# Can change color\n",
    "def init():\n",
    "    ax.scatter(xs=X, ys=Y, zs=Z, zdir='z', marker='o', s=20, c=\"red\", alpha=0.6) \n",
    "\n",
    "def animate(i):\n",
    "    ax.view_init(elev=10., azim=i)\n",
    "\n",
    "anim = animation.FuncAnimation(fig, animate, init_func=init,\n",
    "                               frames=360, interval=20, blit=False)\n",
    "\n",
    "anim.save('hearts.mp4', fps=30, extra_args=['-vcodec', 'libx264'])\n",
    "\n"
   ]
  }
 ],
 "metadata": {
  "anaconda-cloud": {},
  "kernelspec": {
   "display_name": "Python 3",
   "language": "python",
   "name": "python3"
  },
  "language_info": {
   "codemirror_mode": {
    "name": "ipython",
    "version": 3
   },
   "file_extension": ".py",
   "mimetype": "text/x-python",
   "name": "python",
   "nbconvert_exporter": "python",
   "pygments_lexer": "ipython3",
   "version": "3.6.0"
  }
 },
 "nbformat": 4,
 "nbformat_minor": 0
}
